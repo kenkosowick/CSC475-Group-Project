{
 "cells": [
  {
   "cell_type": "markdown",
   "metadata": {},
   "source": [
    "# Basic Pyo Synth with 2 Oscillators"
   ]
  },
  {
   "cell_type": "code",
   "execution_count": 57,
   "metadata": {},
   "outputs": [],
   "source": [
    "from pyo import *\n",
    "from tkinter import *\n"
   ]
  },
  {
   "cell_type": "markdown",
   "metadata": {},
   "source": [
    "Helper functions"
   ]
  },
  {
   "cell_type": "code",
   "execution_count": 66,
   "metadata": {},
   "outputs": [],
   "source": [
    "def mix(ratio): #amount in percentage used for oscillator one\n",
    "    return 1.0 - ratio    "
   ]
  },
  {
   "cell_type": "code",
   "execution_count": 67,
   "metadata": {},
   "outputs": [],
   "source": [
    "def sel_waveform(left, right):\n",
    "    \n",
    "    tri = TriangleTable()\n",
    "    sqr = SquareTable()\n",
    "    saw = SawTable()\n",
    "    sin = HarmTable([1])\n",
    "    \n",
    "    print(\"1-Sine, 2-Triangle, 3-Square, 4-Saw\")\n",
    "    text = int(input())\n",
    "            \n",
    "    if text == 1:\n",
    "        left.setTable(sin)\n",
    "        right.setTable(sin)\n",
    "    if text == 2:\n",
    "        left.setTable(tri)\n",
    "        right.setTable(tri)\n",
    "    if text == 3:\n",
    "        left.setTable(sqr)\n",
    "        right.setTable(sqr)\n",
    "    if text == 4:\n",
    "        left.setTable(saw)\n",
    "        right.setTable(saw)\n",
    "    "
   ]
  },
  {
   "cell_type": "code",
   "execution_count": 68,
   "metadata": {},
   "outputs": [],
   "source": [
    "def osc_controls(a_L, a_R, b_L, b_R):\n",
    "    \n",
    "    text = 1\n",
    "    \n",
    "    while text != 0:\n",
    "    \n",
    "        print(\"1-OscA, 2-OscB, 3-Mix, 0-Back\")\n",
    "        text = int(input())\n",
    "    \n",
    "        if text == 1:\n",
    "            left = a_L\n",
    "            right = a_R\n",
    "        if text == 2:\n",
    "            left = b_L\n",
    "            right = b_R\n",
    "            \n",
    "        if text == 1 or text == 2:\n",
    "            print(\"1-Waveforms, 2-Freq\")\n",
    "            text = int(input())\n",
    "        \n",
    "            if text == 1:\n",
    "                #select waveform\n",
    "                sel_waveform(left, right)\n",
    "            if text == 2:\n",
    "                print(\"Enter Frequency\")\n",
    "                f = float(input())\n",
    "                left.setFreq(f)\n",
    "                right.setFreq(f)\n",
    "                \n",
    "        if text == 3: #move to different part\n",
    "            print(\"Enter ratio of OscA to OscB (between 1.0-0):\")\n",
    "            ratio = float(input())\n",
    "            a_L.setMul(ratio)\n",
    "            a_R.setMul(ratio)\n",
    "            b_L.setMul(mix(ratio))\n",
    "            b_R.setMul(mix(ratio))\n",
    "            \n",
    "        \n",
    "        "
   ]
  },
  {
   "cell_type": "code",
   "execution_count": 69,
   "metadata": {},
   "outputs": [],
   "source": [
    "def filter_controls(a_L, a_R, b_L, b_R):\n",
    "    \n",
    "    print(\"0-Low pass, 1-Highpass\")\n",
    "    sel = int(input())\n",
    "    print(\"Enter Cut off Frequency:\")\n",
    "    f = float(input())\n",
    "    \n",
    "    f1 = Biquad(a_L, freq=f, q=5, type=sel).out()\n",
    "    f2 = Biquad(a_R, freq=f, q=5, type=sel).out(1)\n",
    "    f3 = Biquad(b_L, freq=f, q=5, type=sel).out()\n",
    "    f4 = Biquad(b_R, freq=f, q=5, type=sel).out(1)\n",
    "\n",
    "    "
   ]
  },
  {
   "cell_type": "markdown",
   "metadata": {},
   "source": [
    "# Main Program (Text Based)"
   ]
  },
  {
   "cell_type": "code",
   "execution_count": 76,
   "metadata": {},
   "outputs": [
    {
     "name": "stdout",
     "output_type": "stream",
     "text": [
      "Pyo warning: Portmidi warning: no midi device found!\n",
      "Portmidi closed.\n",
      "1-Oscillators, 2-Envelope, 3-Filter, 4-Amplitude, 0-Quit \n",
      "0\n"
     ]
    }
   ],
   "source": [
    "#Main Program\n",
    "\n",
    "s = Server()\n",
    "s.boot()\n",
    "s.start()\n",
    "print()\n",
    "\n",
    "#Waveforms\n",
    "tri = TriangleTable()\n",
    "sqr = SquareTable()\n",
    "saw = SawTable()\n",
    "sin = HarmTable([1])\n",
    "\n",
    "#Initial Values\n",
    "amp = 0.3\n",
    "freq = 220\n",
    "\n",
    "#Oscillators\n",
    "oscA_L = Osc(table=sin, freq = freq, mul = amp)\n",
    "oscA_R = Osc(table=sin, freq = freq, mul = amp)\n",
    "oscB_L = Osc(table=tri, freq = freq, mul = amp)\n",
    "oscB_R = Osc(table=tri, freq = freq, mul = amp)\n",
    "\n",
    "\n",
    "filterA_L = Biquad(oscA_L, freq=20000, q=3).out()\n",
    "filterA_R = Biquad(oscA_R, freq=20000, q=3).out(1)\n",
    "filterB_L = Biquad(oscB_L, freq=20000, q=3).out()\n",
    "filterB_R = Biquad(oscB_R, freq=20000, q=3).out(1)\n",
    "\n",
    "\n",
    "text = 1\n",
    "\n",
    "#Menu loop\n",
    "while text != 0:\n",
    "    \n",
    "    print(\"1-Oscillators, 2-Envelope, 3-Filter, 4-Amplitude, 0-Quit \")\n",
    "    text = int(input())\n",
    "    \n",
    "    \n",
    "    if text == 1:\n",
    "        osc_controls(oscA_L, oscA_R, oscB_L, oscB_R)\n",
    "        \n",
    "    if text == 2:\n",
    "        print()\n",
    "        #still have to create envelope, will be better if we have midi to trigger it\n",
    "    \n",
    "    if text == 3:\n",
    "\n",
    "        print(\"0-Low pass, 1-Highpass\")\n",
    "        sel = int(input())\n",
    "        \n",
    "        print(\"Enter Cut off Frequency (Off = 20,000 for LP and 0 for HP):\")\n",
    "        f = float(input())\n",
    "        \n",
    "        filterA_L.setType(sel)\n",
    "        filterA_R.setType(sel)\n",
    "        filterB_L.setType(sel)\n",
    "        filterB_R.setType(sel)\n",
    "        \n",
    "        filterA_L.setFreq(f)\n",
    "        filterA_R.setFreq(f)\n",
    "        filterB_L.setFreq(f)\n",
    "        filterB_R.setFreq(f)\n",
    "        \n",
    "    \n",
    "oscA_L.stop()\n",
    "oscA_R.stop()\n",
    "oscB_L.stop()\n",
    "oscB_R.stop() \n",
    "s.stop()            \n"
   ]
  },
  {
   "cell_type": "markdown",
   "metadata": {},
   "source": [
    "# Just some random tests using Pyo objects down below"
   ]
  },
  {
   "cell_type": "code",
   "execution_count": 75,
   "metadata": {},
   "outputs": [],
   "source": [
    "#Oscillator Tests\n",
    "\n",
    "s = Server()\n",
    "s.boot()\n",
    "s.start()\n",
    "\n",
    "square = SquareTable()\n",
    "tri = TriangleTable()\n",
    "\n",
    "\n",
    "freq = 220\n",
    "\n",
    "oscL = Osc(table=square, freq = freq, mul = 0.5).out()\n",
    "oscR = Osc(table=square, freq = freq, mul= 0.5).out(1)\n",
    "\n",
    "text = 1\n",
    "\n",
    "while text != 0:\n",
    "    \n",
    "    text = int(input())\n",
    "    \n",
    "    if text == 2:\n",
    "        oscL.setTable(tri)\n",
    "        oscR.setTable(tri)\n",
    "        \n",
    "    if text == 1:\n",
    "        oscL.setTable(square)\n",
    "        oscR.setTable(square)\n",
    "\n",
    "        \n",
    "    if text == 4:\n",
    "        print(\"Enter frequency:\")\n",
    "        f = int(input())\n",
    "        oscL.setFreq(f)\n",
    "        oscR.setFreq(f)\n",
    "\n",
    "oscL.stop()\n",
    "oscR.stop()"
   ]
  },
  {
   "cell_type": "code",
   "execution_count": null,
   "metadata": {},
   "outputs": [],
   "source": [
    "oscL.stop()\n",
    "oscR.stop()"
   ]
  },
  {
   "cell_type": "code",
   "execution_count": null,
   "metadata": {},
   "outputs": [],
   "source": [
    "ta = HarmTable([1,.3,.2])\n",
    "tb = HarmTable([1])\n",
    "f = Fader(fadein=.1).play()\n",
    "a = OscBank(ta,100,spread=0,frndf=.25,frnda=.01,num=[10,10],fjit=True,mul=f*0.5).out()\n",
    "b = OscBank(tb,250,spread=.25,slope=.8,arndf=4,arnda=1,num=[10,10],mul=f*0.4).out()\n",
    "b.ctrl()"
   ]
  },
  {
   "cell_type": "code",
   "execution_count": null,
   "metadata": {},
   "outputs": [],
   "source": [
    "a.setMul(0.5)"
   ]
  },
  {
   "cell_type": "code",
   "execution_count": null,
   "metadata": {},
   "outputs": [],
   "source": [
    "a.setFrnda(.1)\n",
    "a.setSpread(0)\n",
    "a.setFreq(220)\n",
    "a.setFrndf(100)"
   ]
  },
  {
   "cell_type": "code",
   "execution_count": null,
   "metadata": {},
   "outputs": [],
   "source": [
    "a.stop()\n",
    "b.stop()"
   ]
  },
  {
   "cell_type": "code",
   "execution_count": null,
   "metadata": {},
   "outputs": [],
   "source": [
    "s.stop()"
   ]
  },
  {
   "cell_type": "code",
   "execution_count": 58,
   "metadata": {},
   "outputs": [
    {
     "name": "stdout",
     "output_type": "stream",
     "text": [
      "Pyo warning: Portmidi warning: no midi device found!\n",
      "Portmidi closed.\n"
     ]
    }
   ],
   "source": [
    "s = Server().boot()\n",
    "s.start()\n",
    "a = Noise(mul=.7)\n",
    "lfo = Sine(freq=[.2, .25], mul=1000, add=1500)\n",
    "f = Biquad(a, freq=lfo, q=5, type=2).out()\n",
    "f = Biquad(a, freq=lfo, q=5, type=2).out(1)"
   ]
  },
  {
   "cell_type": "code",
   "execution_count": 61,
   "metadata": {},
   "outputs": [],
   "source": [
    "f.setType(0)\n",
    "f.setFreq(300)"
   ]
  },
  {
   "cell_type": "code",
   "execution_count": 47,
   "metadata": {},
   "outputs": [
    {
     "name": "stdout",
     "output_type": "stream",
     "text": [
      "Pyo warning: Portmidi warning: no midi device found!\n",
      "Portmidi closed.\n"
     ]
    }
   ],
   "source": [
    "s = Server().boot()\n",
    "s.start()\n",
    "\n",
    "tab = SawTable()\n",
    "sound = Osc(table=tab, freq=180, mul=0.2)\n"
   ]
  },
  {
   "cell_type": "code",
   "execution_count": 51,
   "metadata": {},
   "outputs": [],
   "source": [
    "f= Biquad(sound, freq=400, q=5).out()\n"
   ]
  },
  {
   "cell_type": "code",
   "execution_count": 34,
   "metadata": {},
   "outputs": [],
   "source": [
    "sound.setTable(sin)"
   ]
  },
  {
   "cell_type": "code",
   "execution_count": 52,
   "metadata": {},
   "outputs": [],
   "source": [
    "s.stop()"
   ]
  }
 ],
 "metadata": {
  "kernelspec": {
   "display_name": "Python 3",
   "language": "python",
   "name": "python3"
  },
  "language_info": {
   "codemirror_mode": {
    "name": "ipython",
    "version": 3
   },
   "file_extension": ".py",
   "mimetype": "text/x-python",
   "name": "python",
   "nbconvert_exporter": "python",
   "pygments_lexer": "ipython3",
   "version": "3.7.9"
  }
 },
 "nbformat": 4,
 "nbformat_minor": 4
}
