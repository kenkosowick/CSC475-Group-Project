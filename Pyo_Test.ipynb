{
 "cells": [
  {
   "cell_type": "code",
   "execution_count": 1,
   "metadata": {},
   "outputs": [
    {
     "name": "stdout",
     "output_type": "stream",
     "text": [
      "\n",
      "WxPython is not found for the current python version.\n",
      "Pyo will use a minimal GUI toolkit written with Tkinter (if available).\n",
      "This toolkit has limited functionnalities and is no more\n",
      "maintained or updated. If you want to use all of pyo's\n",
      "GUI features, you should install WxPython, available here:\n",
      "http://www.wxpython.org/\n",
      "\n"
     ]
    }
   ],
   "source": [
    "from pyo import *"
   ]
  },
  {
   "cell_type": "code",
   "execution_count": 2,
   "metadata": {},
   "outputs": [
    {
     "name": "stdout",
     "output_type": "stream",
     "text": [
      "Pyo warning: Portmidi warning: no midi device found!\n",
      "Portmidi closed.\n"
     ]
    },
    {
     "data": {
      "text/plain": [
       "<pyo.lib.server.Server at 0x7ff694cb2510>"
      ]
     },
     "execution_count": 2,
     "metadata": {},
     "output_type": "execute_result"
    }
   ],
   "source": [
    "s = Server()\n",
    "s.boot()\n",
    "s.start()"
   ]
  },
  {
   "cell_type": "code",
   "execution_count": 5,
   "metadata": {},
   "outputs": [],
   "source": [
    "wav = SquareTable()\n",
    "beat = Metro(time=0.5, poly=4).play()\n",
    "envelope = CosTable([(0,0), (100,1), (500,.3), (8191,0)])\n",
    "amplitude = TrigEnv(beat, table=envelope, dur=0.25, mul=0.7)\n",
    "pitch = TrigXnoiseMidi(beat, dist=3, scale=1, mrange=(24,48))"
   ]
  },
  {
   "cell_type": "code",
   "execution_count": 6,
   "metadata": {},
   "outputs": [],
   "source": [
    "oscillator = Osc(table=wav, freq=pitch, mul=amplitude).out()"
   ]
  },
  {
   "cell_type": "code",
   "execution_count": 7,
   "metadata": {},
   "outputs": [
    {
     "data": {
      "text/plain": [
       "< Instance of Osc class >"
      ]
     },
     "execution_count": 7,
     "metadata": {},
     "output_type": "execute_result"
    }
   ],
   "source": [
    "oscillator.stop()"
   ]
  },
  {
   "cell_type": "code",
   "execution_count": 6,
   "metadata": {},
   "outputs": [],
   "source": [
    "s.stop()"
   ]
  },
  {
   "cell_type": "code",
   "execution_count": 10,
   "metadata": {},
   "outputs": [
    {
     "ename": "SystemExit",
     "evalue": "This program needs access to the screen. Please run with a\nFramework build of python, and only when you are logged in\non the main display of your Mac.",
     "output_type": "error",
     "traceback": [
      "An exception has occurred, use %tb to see the full traceback.\n",
      "\u001b[0;31mSystemExit\u001b[0m\u001b[0;31m:\u001b[0m This program needs access to the screen. Please run with a\nFramework build of python, and only when you are logged in\non the main display of your Mac.\n"
     ]
    },
    {
     "name": "stderr",
     "output_type": "stream",
     "text": [
      "/opt/miniconda3/envs/FMP/lib/python3.7/site-packages/IPython/core/interactiveshell.py:3334: UserWarning: To exit: use 'exit', 'quit', or Ctrl-D.\n",
      "  warn(\"To exit: use 'exit', 'quit', or Ctrl-D.\", stacklevel=1)\n"
     ]
    }
   ],
   "source": [
    "s.amp = 0.1\n",
    "\n",
    "# Creates two objects with cool parameters, one per channel.\n",
    "a = FM().out()\n",
    "b = FM().out(1)\n",
    "\n",
    "# Opens the controller windows.\n",
    "a.ctrl(title=\"Frequency modulation left channel\")\n",
    "b.ctrl(title=\"Frequency modulation right channel\")\n",
    "\n",
    "# If a list of values is given at a particular argument, the ctrl\n",
    "# window will show a multislider to set each value separately.\n",
    "\n",
    "oscs = Sine([100, 200, 300, 400, 500, 600, 700, 800], mul=0.1).out()\n",
    "oscs.ctrl(title=\"Simple additive synthesis\")\n",
    "\n",
    "s.gui(locals())"
   ]
  },
  {
   "cell_type": "code",
   "execution_count": 57,
   "metadata": {},
   "outputs": [
    {
     "data": {
      "text/plain": [
       "< Instance of Sine class >"
      ]
     },
     "execution_count": 57,
     "metadata": {},
     "output_type": "execute_result"
    }
   ],
   "source": []
  },
  {
   "cell_type": "code",
   "execution_count": 13,
   "metadata": {},
   "outputs": [],
   "source": [
    "from tkinter import *\n",
    "\n",
    "root = Tk()\n",
    "root.title('Hello World!')\n",
    "root.geometry('400x400')\n",
    "\n",
    "def clicker(event):\n",
    "    myLabel = Label(root, text=\"You clicked a button\")\n",
    "    myLabel.pack()\n",
    "\n",
    "myButton = Button(root, text = \"Click Me\")\n",
    "myButton.bind(\"<Button-3>\", clicker)\n",
    "myButton.pack(pady=20)\n",
    "\n",
    "root.mainloop()\n"
   ]
  },
  {
   "cell_type": "code",
   "execution_count": null,
   "metadata": {},
   "outputs": [],
   "source": []
  },
  {
   "cell_type": "code",
   "execution_count": null,
   "metadata": {},
   "outputs": [],
   "source": []
  }
 ],
 "metadata": {
  "kernelspec": {
   "display_name": "Python 3",
   "language": "python",
   "name": "python3"
  },
  "language_info": {
   "codemirror_mode": {
    "name": "ipython",
    "version": 3
   },
   "file_extension": ".py",
   "mimetype": "text/x-python",
   "name": "python",
   "nbconvert_exporter": "python",
   "pygments_lexer": "ipython3",
   "version": "3.7.9"
  }
 },
 "nbformat": 4,
 "nbformat_minor": 4
}
