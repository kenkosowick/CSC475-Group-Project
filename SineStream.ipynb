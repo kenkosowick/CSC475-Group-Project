{
 "cells": [
  {
   "cell_type": "code",
   "execution_count": 2,
   "metadata": {},
   "outputs": [],
   "source": [
    "import numpy as np\n",
    "import soundfile as sf\n",
    "import sounddevice as sd\n",
    "import ipywidgets as wg\n",
    "from IPython.display import display\n",
    "\n",
    "\n",
    "\n",
    "#using MIDI note 69 (A440) as a test input\n",
    "note_test = 69\n",
    "\n",
    "def MIDI_to_freq(note):\n",
    "    exp = (note - 69)/ 12\n",
    "    freq = 2 ** exp * 440\n",
    "    return freq\n",
    "\n",
    "def play_audio(data, sr):\n",
    "    sd.play(data, sr)\n",
    "    status = sd.wait()\n",
    "    \n",
    "def sinusoid(freq, dur=1.0, srate=44100.0, amp=1.0, phase = 0.0): \n",
    "    t = np.linspace(0,dur,int(srate*dur))\n",
    "    data = amp * np.sin(2*np.pi*freq *t+phase)\n",
    "    return data\n",
    "\n",
    "\n",
    "srate = 44100\n",
    "freq = MIDI_to_freq(69)\n",
    "data = sinusoid(freq, srate = 44100)\n"
   ]
  },
  {
   "cell_type": "code",
   "execution_count": 3,
   "metadata": {},
   "outputs": [
    {
     "name": "stdout",
     "output_type": "stream",
     "text": [
      "################################################################################\n",
      "press Return to quit\n",
      "################################################################################\n",
      "220\n",
      "330\n",
      "440\n",
      "0\n",
      "\n"
     ]
    }
   ],
   "source": [
    "import sys\n",
    "import ipywidgets as wg\n",
    "from IPython.display import display\n",
    "\n",
    "#Sine wav ocsillator that changes frequency in \"real-time\" based on user text input\n",
    "#Just type the frequency in Hz you would like to hear then press enter. Enter 0 to quit\n",
    "\n",
    "amp = 1 \n",
    "f = 440 #frequency\n",
    "start_idx = 0\n",
    "block = 500 #the smaller the value, less latency (but if too low input underflow)\n",
    "lat = 0 #latency in seconds\n",
    "srate = 2048\n",
    "amp = 1\n",
    "\n",
    "try:\n",
    "    \n",
    "    def callback(indata, outdata, frames, time, status): #Call back function that adds\n",
    "        if status:\n",
    "            print(status, file=sys.stderr)\n",
    "        global start_idx\n",
    "        t = (start_idx + np.arange(frames)) / srate\n",
    "        t = t.reshape(-1, 1)\n",
    "        global f\n",
    "        global amp\n",
    "        f_slider.observe(on_value_change, names = 'value')\n",
    "        indata = amp * np.sin(2 * np.pi * f * t) #create sine wave\n",
    "        outdata[:] = indata  \n",
    "        start_idx += frames\n",
    "        \n",
    "\n",
    "    with sd.Stream(samplerate=srate, blocksize=block,latency=lat,\n",
    "                   channels=1, callback=callback ):\n",
    "        \n",
    "        print('#' * 80)\n",
    "        print('press Return to quit')\n",
    "        print('#' * 80)\n",
    "\n",
    "        while f != 0:#get frequency input from user set 0 to quit\n",
    "           \n",
    "            f = int(input())           \n",
    "            \n",
    "        input() #return to exit\n",
    "    \n",
    "except KeyboardInterrupt:\n",
    "    print(\"Exited by user\") \n"
   ]
  }
 ],
 "metadata": {
  "kernelspec": {
   "display_name": "Python 3",
   "language": "python",
   "name": "python3"
  },
  "language_info": {
   "codemirror_mode": {
    "name": "ipython",
    "version": 3
   },
   "file_extension": ".py",
   "mimetype": "text/x-python",
   "name": "python",
   "nbconvert_exporter": "python",
   "pygments_lexer": "ipython3",
   "version": "3.7.9"
  }
 },
 "nbformat": 4,
 "nbformat_minor": 4
}
