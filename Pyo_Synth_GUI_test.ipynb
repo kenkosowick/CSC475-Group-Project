{
 "cells": [
  {
   "cell_type": "markdown",
   "metadata": {},
   "source": [
    "# Basic Pyo Synth with 2 Oscillators"
   ]
  },
  {
   "cell_type": "code",
   "execution_count": 49,
   "metadata": {},
   "outputs": [],
   "source": [
    "from pyo import *\n",
    "from tkinter import *\n",
    "import ipywidgets as wg\n",
    "from ipywidgets import HBox, VBox\n",
    "from IPython.display import display\n"
   ]
  },
  {
   "cell_type": "markdown",
   "metadata": {},
   "source": [
    "Helper functions"
   ]
  },
  {
   "cell_type": "code",
   "execution_count": 3,
   "metadata": {},
   "outputs": [],
   "source": [
    "def mix(ratio): #amount in percentage used for oscillator one\n",
    "    return 1.0 - ratio    "
   ]
  },
  {
   "cell_type": "code",
   "execution_count": null,
   "metadata": {},
   "outputs": [],
   "source": []
  },
  {
   "cell_type": "code",
   "execution_count": 51,
   "metadata": {},
   "outputs": [],
   "source": [
    "def sel_waveform(left, right):\n",
    "    \n",
    "    tri = TriangleTable()\n",
    "    sqr = SquareTable()\n",
    "    saw = SawTable()\n",
    "    sin = HarmTable([1])\n",
    "    \n",
    "    output = wg.Output()\n",
    "\n",
    "\n",
    "    waveforms = wg.ToggleButtons(\n",
    "        options=['Sine', 'Triangle', 'Sawtooth', 'Square'],\n",
    "        )\n",
    "    waveforms\n",
    "    \n",
    "    select_wave = wg.Button(\n",
    "        description = 'Select')\n",
    "    select_wave\n",
    "\n",
    "    def set_wave(b):\n",
    "        waveform = waveforms.value\n",
    "        if waveform == 'Triangle':\n",
    "            left.setTable(tri)\n",
    "            right.setTable(tri)\n",
    "            \n",
    "        if waveform == 'Sine':\n",
    "            left.setTable(sin)\n",
    "            right.setTable(sin)\n",
    "        if waveform == 'Sawtooth':\n",
    "            left.setTable(saw)\n",
    "            right.setTable(saw)\n",
    "        if waveform == 'Square':\n",
    "            left.setTable(sqr)\n",
    "            right.setTable(sqr)   \n",
    "        \n",
    "        print(waveform, \"wave selected. \")\n",
    "\n",
    "\n",
    "    select_wave.on_click(set_wave)\n",
    "\n",
    "\n",
    "    tab1 = wg.HBox([wg.VBox([waveforms, select_wave])])\n",
    "    display(tab1, output)\n",
    "\n",
    "    \n",
    "    "
   ]
  },
  {
   "cell_type": "code",
   "execution_count": 44,
   "metadata": {},
   "outputs": [],
   "source": [
    "def osc_controls(a_L, a_R, b_L, b_R):\n",
    "    \n",
    "    osc = wg.ToggleButtons(\n",
    "        options=['Osc A', 'Osc B', 'Mix', 'Back'],)\n",
    "    osc\n",
    "    \n",
    "    select_wave = wg.Button(\n",
    "        description = 'Select')\n",
    "    select_wave\n",
    "    \n",
    "    def selection(b):\n",
    "        sel = osc.value\n",
    "        if sel == 'Osc A':\n",
    "            left = a_L\n",
    "            right = a_R\n",
    "        if sel == 'Osc B':\n",
    "            left = b_L\n",
    "            right = b_R\n",
    "            \n",
    "        if sel == 'Osc A' or sel == 'Osc B':\n",
    "            wav_freq(sel, left, right)\n",
    "        \n",
    "          \n",
    "        if sel == 'Mix': #move to different part\n",
    "            print(\"Enter ratio of OscA to OscB (between 1.0-0):\")\n",
    "            ratio = float(input())\n",
    "            a_L.setMul(ratio)\n",
    "            a_R.setMul(ratio)\n",
    "            b_L.setMul(mix(ratio))\n",
    "            b_R.setMul(mix(ratio))\n",
    "            \n",
    "        if sel == 'Back':\n",
    "            display_menu()\n",
    "    \n",
    "\n",
    "            \n",
    "    select_wave.on_click(selection)\n",
    "    tab1 = wg.HBox([wg.VBox([osc, select_wave])])\n",
    "    display(tab1, output)\n",
    "            \n",
    "            \n",
    "def wav_freq(sel, left, right):\n",
    "            \n",
    "    osc = wg.ToggleButtons(\n",
    "    options=['Waveforms', 'Frequency', 'Back'],\n",
    "    )\n",
    "    osc\n",
    "\n",
    "    select_wave = wg.Button(\n",
    "    description = 'Select')\n",
    "    select_wave\n",
    "    def selection(b):\n",
    "        sel = osc.value\n",
    "        if sel == 'Waveforms':\n",
    "            #select waveform\n",
    "            sel_waveform(left, right)\n",
    "        if sel == 'Frequency':\n",
    "            \n",
    "            def on_value_change(change): #for slider\n",
    "                with output:\n",
    "                    freq = change.new \n",
    "                    left.setFreq(freq)\n",
    "                    right.setFreq(freq)\n",
    "                \n",
    "            f_slider = wg.IntSlider(value = 440, min=0, max = 2000)\n",
    "            display(f_slider, output)\n",
    "            f_slider.observe(on_value_change, names = 'value')\n",
    "        \n",
    "\n",
    "            \n",
    "        if sel == 'Back':\n",
    "            display_menu()\n",
    "            \n",
    "    select_wave.on_click(selection)\n",
    "    tab1 = wg.HBox([wg.VBox([osc, select_wave])])\n",
    "    display(tab1, output)\n",
    "    \n",
    "\n",
    "            \n",
    "        \n",
    "        "
   ]
  },
  {
   "cell_type": "code",
   "execution_count": 19,
   "metadata": {},
   "outputs": [],
   "source": [
    "def filter_controls(a_L, a_R, b_L, b_R):\n",
    "    \n",
    "    print(\"0-Low pass, 1-Highpass\")\n",
    "    sel = int(input())\n",
    "    print(\"Enter Cut off Frequency:\")\n",
    "    f = float(input())\n",
    "    \n",
    "    f1 = Biquad(a_L, freq=f, q=5, type=sel).out()\n",
    "    f2 = Biquad(a_R, freq=f, q=5, type=sel).out(1)\n",
    "    f3 = Biquad(b_L, freq=f, q=5, type=sel).out()\n",
    "    f4 = Biquad(b_R, freq=f, q=5, type=sel).out(1)\n",
    "\n",
    "    "
   ]
  },
  {
   "cell_type": "markdown",
   "metadata": {},
   "source": [
    "# Main Program (Text Based)"
   ]
  },
  {
   "cell_type": "code",
   "execution_count": 52,
   "metadata": {},
   "outputs": [
    {
     "name": "stdout",
     "output_type": "stream",
     "text": [
      "Pyo warning: Portmidi warning: no midi device found!\n",
      "Portmidi closed.\n"
     ]
    },
    {
     "data": {
      "application/vnd.jupyter.widget-view+json": {
       "model_id": "5b8039cbae33474bb2153482d37b8d9f",
       "version_major": 2,
       "version_minor": 0
      },
      "text/plain": [
       "VBox(children=(ToggleButtons(description='MENU:', options=('Oscillators', 'Envelope', 'Filter', 'Amplitude', '…"
      ]
     },
     "metadata": {},
     "output_type": "display_data"
    },
    {
     "data": {
      "application/vnd.jupyter.widget-view+json": {
       "model_id": "3becfb3f4bc04d35a43d5f8b6b809397",
       "version_major": 2,
       "version_minor": 0
      },
      "text/plain": [
       "Output()"
      ]
     },
     "metadata": {},
     "output_type": "display_data"
    },
    {
     "data": {
      "application/vnd.jupyter.widget-view+json": {
       "model_id": "5a4f046631ad4e36b7aa521d65421071",
       "version_major": 2,
       "version_minor": 0
      },
      "text/plain": [
       "HBox(children=(VBox(children=(ToggleButtons(description='Oscillators: ', options=('Osc A', 'Osc B', 'Mix', 'Ba…"
      ]
     },
     "metadata": {},
     "output_type": "display_data"
    },
    {
     "data": {
      "application/vnd.jupyter.widget-view+json": {
       "model_id": "3becfb3f4bc04d35a43d5f8b6b809397",
       "version_major": 2,
       "version_minor": 0
      },
      "text/plain": [
       "Output()"
      ]
     },
     "metadata": {},
     "output_type": "display_data"
    },
    {
     "data": {
      "application/vnd.jupyter.widget-view+json": {
       "model_id": "91064e30935941fe8470f31d333c04a5",
       "version_major": 2,
       "version_minor": 0
      },
      "text/plain": [
       "HBox(children=(VBox(children=(ToggleButtons(options=('Waveforms', 'Frequency', 'Back'), value='Waveforms'), Bu…"
      ]
     },
     "metadata": {},
     "output_type": "display_data"
    },
    {
     "data": {
      "application/vnd.jupyter.widget-view+json": {
       "model_id": "3becfb3f4bc04d35a43d5f8b6b809397",
       "version_major": 2,
       "version_minor": 0
      },
      "text/plain": [
       "Output()"
      ]
     },
     "metadata": {},
     "output_type": "display_data"
    },
    {
     "data": {
      "application/vnd.jupyter.widget-view+json": {
       "model_id": "f0130cc052e74227a967833f61377031",
       "version_major": 2,
       "version_minor": 0
      },
      "text/plain": [
       "HBox(children=(VBox(children=(ToggleButtons(options=('Sine', 'Triangle', 'Sawtooth', 'Square'), value='Sine'),…"
      ]
     },
     "metadata": {},
     "output_type": "display_data"
    },
    {
     "data": {
      "application/vnd.jupyter.widget-view+json": {
       "model_id": "163e69a185eb4e47ad8c31694f85e352",
       "version_major": 2,
       "version_minor": 0
      },
      "text/plain": [
       "Output()"
      ]
     },
     "metadata": {},
     "output_type": "display_data"
    },
    {
     "name": "stdout",
     "output_type": "stream",
     "text": [
      "Triangle wave selected. \n",
      "Sawtooth wave selected. \n",
      "Square wave selected. \n",
      "Triangle wave selected. \n",
      "Sawtooth wave selected. \n"
     ]
    }
   ],
   "source": [
    "#Main Program\n",
    "s = Server()\n",
    "s.boot()\n",
    "s.start()\n",
    "output = wg.Output()\n",
    "\n",
    "\n",
    "#Waveforms\n",
    "tri = TriangleTable()\n",
    "sqr = SquareTable()\n",
    "saw = SawTable()\n",
    "sin = HarmTable([1])\n",
    "\n",
    "#Initial Values\n",
    "amp = 0.3\n",
    "freq = 220\n",
    "\n",
    "#Oscillators\n",
    "oscA_L = Osc(table=sin, freq = freq, mul = amp)\n",
    "oscA_R = Osc(table=sin, freq = freq, mul = amp)\n",
    "oscB_L = Osc(table=tri, freq = freq, mul = amp)\n",
    "oscB_R = Osc(table=tri, freq = freq, mul = amp)\n",
    "\n",
    "filterA_L = Biquad(oscA_L, freq=20000, q=3).out()\n",
    "filterA_R = Biquad(oscA_R, freq=20000, q=3).out(1)\n",
    "filterB_L = Biquad(oscB_L, freq=20000, q=3).out()\n",
    "filterB_R = Biquad(oscB_R, freq=20000, q=3).out(1)\n",
    "\n",
    "    \n",
    "def display_menu():\n",
    "    menu = wg.ToggleButtons(\n",
    "    options=['Oscillators', 'Envelope', 'Filter', 'Amplitude', 'Quit'],\n",
    "    description= 'MENU:',)\n",
    "    menu\n",
    "\n",
    "    select_wave = wg.Button(\n",
    "    description = 'Select')\n",
    "    select_wave\n",
    "\n",
    "    def selection(b):\n",
    "        sel = menu.value\n",
    "        if sel == 'Oscillators':\n",
    "            osc_controls(oscA_L, oscA_R, oscB_L, oscB_R)   \n",
    "\n",
    "        if sel == 'Quit':\n",
    "            print('Quitting')\n",
    "            oscA_L.stop()\n",
    "            oscA_R.stop()\n",
    "            oscB_L.stop()\n",
    "            oscB_R.stop() \n",
    "            s.stop()\n",
    "\n",
    "    select_wave.on_click(selection)\n",
    "    tab1 = wg.VBox([menu, select_wave])\n",
    "    display(tab1, output)\n",
    "\n",
    "display_menu()    \n"
   ]
  },
  {
   "cell_type": "code",
   "execution_count": null,
   "metadata": {},
   "outputs": [],
   "source": [
    "'''\n",
    "        \n",
    "        if text == 2:\n",
    "            print()\n",
    "            #still have to create envelope, will be better if we have midi to trigger it\n",
    "\n",
    "        if text == 3:\n",
    "\n",
    "            print(\"0-Low pass, 1-Highpass\")\n",
    "            sel = int(input())\n",
    "\n",
    "            print(\"Enter Cut off Frequency (Off = 20,000 for LP and 0 for HP):\")\n",
    "            f = float(input())\n",
    "\n",
    "            filterA_L.setType(sel)\n",
    "            filterA_R.setType(sel)\n",
    "            filterB_L.setType(sel)\n",
    "            filterB_R.setType(sel)\n",
    "\n",
    "            filterA_L.setFreq(f)\n",
    "            filterA_R.setFreq(f)\n",
    "            filterB_L.setFreq(f)\n",
    "            filterB_R.setFreq(f)\n",
    "\n",
    "\n",
    "\n",
    "\n",
    "\n",
    "\n",
    "#Waveforms\n",
    "tri = TriangleTable()\n",
    "sqr = SquareTable()\n",
    "saw = SawTable()\n",
    "sin = HarmTable([1])\n",
    "\n",
    "#Initial Values\n",
    "amp = 0.3\n",
    "freq = 220\n",
    "\n",
    "#Oscillators\n",
    "oscA_L = Osc(table=sin, freq = freq, mul = amp)\n",
    "oscA_R = Osc(table=sin, freq = freq, mul = amp)\n",
    "oscB_L = Osc(table=tri, freq = freq, mul = amp)\n",
    "oscB_R = Osc(table=tri, freq = freq, mul = amp)\n",
    "\n",
    "\n",
    "filterA_L = Biquad(oscA_L, freq=20000, q=3).out()\n",
    "filterA_R = Biquad(oscA_R, freq=20000, q=3).out(1)\n",
    "filterB_L = Biquad(oscB_L, freq=20000, q=3).out()\n",
    "filterB_R = Biquad(oscB_R, freq=20000, q=3).out(1)\n",
    "\n",
    "\n",
    "#text = 1\n",
    "\n",
    "#Menu loop\n",
    "while text != 0:\n",
    "    \n",
    "    print(\"1-Oscillators, 2-Envelope, 3-Filter, 4-Amplitude, 0-Quit \")\n",
    "    text = int(input())\n",
    "    \n",
    "    \n",
    "    if text == 1:\n",
    "        osc_controls(oscA_L, oscA_R, oscB_L, oscB_R)\n",
    "        \n",
    "    if text == 2:\n",
    "        print()\n",
    "        #still have to create envelope, will be better if we have midi to trigger it\n",
    "    \n",
    "    if text == 3:\n",
    "\n",
    "        print(\"0-Low pass, 1-Highpass\")\n",
    "        sel = int(input())\n",
    "        \n",
    "        print(\"Enter Cut off Frequency (Off = 20,000 for LP and 0 for HP):\")\n",
    "        f = float(input())\n",
    "        \n",
    "        filterA_L.setType(sel)\n",
    "        filterA_R.setType(sel)\n",
    "        filterB_L.setType(sel)\n",
    "        filterB_R.setType(sel)\n",
    "        \n",
    "        filterA_L.setFreq(f)\n",
    "        filterA_R.setFreq(f)\n",
    "        filterB_L.setFreq(f)\n",
    "        filterB_R.setFreq(f)\n",
    "        \n",
    "'''    \n",
    "            \n"
   ]
  },
  {
   "cell_type": "markdown",
   "metadata": {},
   "source": [
    "# Just some random tests using Pyo objects down below"
   ]
  },
  {
   "cell_type": "code",
   "execution_count": null,
   "metadata": {},
   "outputs": [],
   "source": [
    "#Oscillator Tests\n",
    "\n",
    "s = Server()\n",
    "s.boot()\n",
    "s.start()\n",
    "\n",
    "square = SquareTable()\n",
    "tri = TriangleTable()\n",
    "\n",
    "\n",
    "freq = 220\n",
    "\n",
    "oscL = Osc(table=square, freq = freq, mul = 0.5).out()\n",
    "oscR = Osc(table=square, freq = freq, mul= 0.5).out(1)\n",
    "\n",
    "text = 1\n",
    "\n",
    "while text != 0:\n",
    "    \n",
    "    text = int(input())\n",
    "    \n",
    "    if text == 2:\n",
    "        oscL.setTable(tri)\n",
    "        oscR.setTable(tri)\n",
    "        \n",
    "    if text == 1:\n",
    "        oscL.setTable(square)\n",
    "        oscR.setTable(square)\n",
    "\n",
    "        \n",
    "    if text == 4:\n",
    "        print(\"Enter frequency:\")\n",
    "        f = int(input())\n",
    "        oscL.setFreq(f)\n",
    "        oscR.setFreq(f)\n",
    "\n",
    "oscL.stop()\n",
    "oscR.stop()"
   ]
  },
  {
   "cell_type": "code",
   "execution_count": null,
   "metadata": {},
   "outputs": [],
   "source": [
    "oscL.stop()\n",
    "oscR.stop()"
   ]
  },
  {
   "cell_type": "code",
   "execution_count": null,
   "metadata": {},
   "outputs": [],
   "source": [
    "ta = HarmTable([1,.3,.2])\n",
    "tb = HarmTable([1])\n",
    "f = Fader(fadein=.1).play()\n",
    "a = OscBank(ta,100,spread=0,frndf=.25,frnda=.01,num=[10,10],fjit=True,mul=f*0.5).out()\n",
    "b = OscBank(tb,250,spread=.25,slope=.8,arndf=4,arnda=1,num=[10,10],mul=f*0.4).out()\n",
    "b.ctrl()"
   ]
  },
  {
   "cell_type": "code",
   "execution_count": null,
   "metadata": {},
   "outputs": [],
   "source": [
    "a.setMul(0.5)"
   ]
  },
  {
   "cell_type": "code",
   "execution_count": null,
   "metadata": {},
   "outputs": [],
   "source": [
    "a.setFrnda(.1)\n",
    "a.setSpread(0)\n",
    "a.setFreq(220)\n",
    "a.setFrndf(100)"
   ]
  },
  {
   "cell_type": "code",
   "execution_count": null,
   "metadata": {},
   "outputs": [],
   "source": [
    "a.stop()\n",
    "b.stop()"
   ]
  },
  {
   "cell_type": "code",
   "execution_count": null,
   "metadata": {},
   "outputs": [],
   "source": [
    "s.stop()"
   ]
  },
  {
   "cell_type": "code",
   "execution_count": null,
   "metadata": {},
   "outputs": [],
   "source": [
    "s = Server().boot()\n",
    "s.start()\n",
    "a = Noise(mul=.7)\n",
    "lfo = Sine(freq=[.2, .25], mul=1000, add=1500)\n",
    "f = Biquad(a, freq=lfo, q=5, type=2).out()\n",
    "f = Biquad(a, freq=lfo, q=5, type=2).out(1)"
   ]
  },
  {
   "cell_type": "code",
   "execution_count": null,
   "metadata": {},
   "outputs": [],
   "source": [
    "f.setType(0)\n",
    "f.setFreq(300)"
   ]
  },
  {
   "cell_type": "code",
   "execution_count": null,
   "metadata": {},
   "outputs": [],
   "source": [
    "s = Server().boot()\n",
    "s.start()\n",
    "\n",
    "tab = SawTable()\n",
    "sound = Osc(table=tab, freq=180, mul=0.2)\n"
   ]
  },
  {
   "cell_type": "code",
   "execution_count": null,
   "metadata": {},
   "outputs": [],
   "source": [
    "f= Biquad(sound, freq=400, q=5).out()\n"
   ]
  },
  {
   "cell_type": "code",
   "execution_count": null,
   "metadata": {},
   "outputs": [],
   "source": [
    "sound.setTable(sin)"
   ]
  },
  {
   "cell_type": "code",
   "execution_count": null,
   "metadata": {},
   "outputs": [],
   "source": [
    "s.stop()"
   ]
  }
 ],
 "metadata": {
  "kernelspec": {
   "display_name": "Python 3",
   "language": "python",
   "name": "python3"
  },
  "language_info": {
   "codemirror_mode": {
    "name": "ipython",
    "version": 3
   },
   "file_extension": ".py",
   "mimetype": "text/x-python",
   "name": "python",
   "nbconvert_exporter": "python",
   "pygments_lexer": "ipython3",
   "version": "3.7.9"
  }
 },
 "nbformat": 4,
 "nbformat_minor": 4
}
